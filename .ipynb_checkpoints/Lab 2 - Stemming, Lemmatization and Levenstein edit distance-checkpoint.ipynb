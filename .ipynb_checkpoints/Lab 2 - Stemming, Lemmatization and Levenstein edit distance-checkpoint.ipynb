{
 "cells": [
  {
   "cell_type": "markdown",
   "metadata": {},
   "source": [
    "# Stemming"
   ]
  },
  {
   "cell_type": "code",
   "execution_count": 34,
   "metadata": {},
   "outputs": [
    {
     "data": {
      "text/plain": [
       "'It originated from the idea that there are readers who prefer learning new skills from the comforts of their drawing rooms'"
      ]
     },
     "execution_count": 34,
     "metadata": {},
     "output_type": "execute_result"
    }
   ],
   "source": [
    "text = \"It originated from the idea that there are readers who prefer learning new skills from the comforts of their drawing rooms\"\n",
    "text"
   ]
  },
  {
   "cell_type": "code",
   "execution_count": 35,
   "metadata": {},
   "outputs": [
    {
     "data": {
      "text/plain": [
       "['It',\n",
       " 'originated',\n",
       " 'from',\n",
       " 'the',\n",
       " 'idea',\n",
       " 'that',\n",
       " 'there',\n",
       " 'are',\n",
       " 'readers',\n",
       " 'who',\n",
       " 'prefer',\n",
       " 'learning',\n",
       " 'new',\n",
       " 'skills',\n",
       " 'from',\n",
       " 'the',\n",
       " 'comforts',\n",
       " 'of',\n",
       " 'their',\n",
       " 'drawing',\n",
       " 'rooms']"
      ]
     },
     "execution_count": 35,
     "metadata": {},
     "output_type": "execute_result"
    }
   ],
   "source": [
    "import nltk\n",
    "tokens = nltk.word_tokenize(text)\n",
    "tokens"
   ]
  },
  {
   "cell_type": "code",
   "execution_count": 36,
   "metadata": {},
   "outputs": [
    {
     "data": {
      "text/plain": [
       "['It',\n",
       " 'origin',\n",
       " 'from',\n",
       " 'the',\n",
       " 'idea',\n",
       " 'that',\n",
       " 'there',\n",
       " 'are',\n",
       " 'reader',\n",
       " 'who',\n",
       " 'prefer',\n",
       " 'learn',\n",
       " 'new',\n",
       " 'skill',\n",
       " 'from',\n",
       " 'the',\n",
       " 'comfort',\n",
       " 'of',\n",
       " 'their',\n",
       " 'draw',\n",
       " 'room']"
      ]
     },
     "execution_count": 36,
     "metadata": {},
     "output_type": "execute_result"
    }
   ],
   "source": [
    "from nltk.stem.porter import PorterStemmer \n",
    "porter_stemmer = PorterStemmer()\n",
    "stems = []\n",
    "for i in tokens:\n",
    "    stems.append(porter_stemmer.stem(i))\n",
    "stems"
   ]
  },
  {
   "cell_type": "markdown",
   "metadata": {},
   "source": [
    "# Lemmatization"
   ]
  },
  {
   "cell_type": "markdown",
   "metadata": {},
   "source": [
    "- First we will do pos tagging because the Lemmatizer needs the pos to work. (pos => Part Of Speech)\n",
    "- Then we change the tags using a function to the pos tags that the lemmatizer will use\n",
    "- Call the nltk function to apply lemmatization"
   ]
  },
  {
   "cell_type": "code",
   "execution_count": 37,
   "metadata": {},
   "outputs": [
    {
     "data": {
      "text/plain": [
       "[('It', 'PRP'),\n",
       " ('originated', 'VBD'),\n",
       " ('from', 'IN'),\n",
       " ('the', 'DT'),\n",
       " ('idea', 'NN'),\n",
       " ('that', 'IN'),\n",
       " ('there', 'EX'),\n",
       " ('are', 'VBP'),\n",
       " ('readers', 'NNS'),\n",
       " ('who', 'WP'),\n",
       " ('prefer', 'VBP'),\n",
       " ('learning', 'VBG'),\n",
       " ('new', 'JJ'),\n",
       " ('skills', 'NNS'),\n",
       " ('from', 'IN'),\n",
       " ('the', 'DT'),\n",
       " ('comforts', 'NNS'),\n",
       " ('of', 'IN'),\n",
       " ('their', 'PRP$'),\n",
       " ('drawing', 'NN'),\n",
       " ('rooms', 'NNS')]"
      ]
     },
     "execution_count": 37,
     "metadata": {},
     "output_type": "execute_result"
    }
   ],
   "source": [
    "tokens = nltk.word_tokenize(text)\n",
    "pos = nltk.pos_tag(tokens)\n",
    "pos"
   ]
  },
  {
   "cell_type": "code",
   "execution_count": 38,
   "metadata": {},
   "outputs": [
    {
     "name": "stdout",
     "output_type": "stream",
     "text": [
      "['n', 'v', 'n', 'n', 'n', 'n', 'n', 'v', 'n', 'n', 'v', 'v', 'a', 'n', 'n', 'n', 'n', 'n', 'n', 'n', 'n']\n"
     ]
    }
   ],
   "source": [
    "def findpos(x):\n",
    "    t='n'\n",
    "    if x.startswith(\"V\"):\n",
    "        t=\"v\"\n",
    "    elif x.startswith(\"J\"):\n",
    "        t=\"a\"\n",
    "    elif x.startswith(\"R\"):\n",
    "        t=\"r\"\n",
    "    elif x.startswith(\"N\"):\n",
    "        t=\"n\"\n",
    "    return(t)\n",
    "\n",
    "x = []\n",
    "for i in range(len(pos)):\n",
    "    x.append(findpos(pos[i][1]))\n",
    "print(x)"
   ]
  },
  {
   "cell_type": "code",
   "execution_count": 39,
   "metadata": {},
   "outputs": [
    {
     "data": {
      "text/plain": [
       "['It',\n",
       " 'originate',\n",
       " 'from',\n",
       " 'the',\n",
       " 'idea',\n",
       " 'that',\n",
       " 'there',\n",
       " 'be',\n",
       " 'reader',\n",
       " 'who',\n",
       " 'prefer',\n",
       " 'learn',\n",
       " 'new',\n",
       " 'skill',\n",
       " 'from',\n",
       " 'the',\n",
       " 'comfort',\n",
       " 'of',\n",
       " 'their',\n",
       " 'drawing',\n",
       " 'room']"
      ]
     },
     "execution_count": 39,
     "metadata": {},
     "output_type": "execute_result"
    }
   ],
   "source": [
    "from nltk.stem import WordNetLemmatizer\n",
    "wnl = WordNetLemmatizer()\n",
    "lemma = []\n",
    "for i in range(len(pos)):\n",
    "    lemma.append(wnl.lemmatize(pos[i][0], x[i]))\n",
    "lemma"
   ]
  },
  {
   "cell_type": "markdown",
   "metadata": {},
   "source": [
    "# Levenstein's Edit Distance\n",
    "- Initialize first row to row number\n",
    "- Initialize first column to column number\n",
    "- Apply the algorithm in Dynamic Programming approach"
   ]
  },
  {
   "cell_type": "code",
   "execution_count": 40,
   "metadata": {},
   "outputs": [
    {
     "data": {
      "text/plain": [
       "8"
      ]
     },
     "execution_count": 40,
     "metadata": {},
     "output_type": "execute_result"
    }
   ],
   "source": [
    "def edit_distance(source, destn):\n",
    "    m = len(source) + 1\n",
    "    n = len(destn) + 1\n",
    "    dist = {}\n",
    "    for i in range(m):\n",
    "        dist[i,0] = i\n",
    "    for j in range(n):\n",
    "        dist[0,j] = j\n",
    "    \n",
    "    for i in range(1, m):\n",
    "        for j in range(1, n):\n",
    "            if (source[i-1] == destn[j-1]):\n",
    "                cost = 0\n",
    "            else:\n",
    "                cost = 2\n",
    "            dist[i,j] = min(dist[i,j-1]+1, dist[i-1, j]+1, dist[i-1,j-1]+cost)\n",
    "    return dist[i,j]\n",
    "\n",
    "table = edit_distance('execution', 'intention')\n",
    "table"
   ]
  },
  {
   "cell_type": "code",
   "execution_count": null,
   "metadata": {},
   "outputs": [],
   "source": []
  }
 ],
 "metadata": {
  "kernelspec": {
   "display_name": "Python 3",
   "language": "python",
   "name": "python3"
  },
  "language_info": {
   "codemirror_mode": {
    "name": "ipython",
    "version": 3
   },
   "file_extension": ".py",
   "mimetype": "text/x-python",
   "name": "python",
   "nbconvert_exporter": "python",
   "pygments_lexer": "ipython3",
   "version": "3.7.3"
  }
 },
 "nbformat": 4,
 "nbformat_minor": 2
}
